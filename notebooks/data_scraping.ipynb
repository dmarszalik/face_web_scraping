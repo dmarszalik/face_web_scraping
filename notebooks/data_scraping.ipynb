{
  "cells": [
    {
      "cell_type": "code",
      "execution_count": null,
      "metadata": {
        "id": "jqEPQtdx3C9c"
      },
      "outputs": [],
      "source": [
        "import cv2 as cv\n",
        "\n",
        "import numpy as np\n",
        "\n",
        "import requests"
      ]
    },
    {
      "cell_type": "code",
      "execution_count": 26,
      "metadata": {
        "id": "k8ogWImLpqRd"
      },
      "outputs": [],
      "source": [
        "def check_gender(genderNet, image, MODEL_MEAN_VALUES=[104, 117, 123]):\n",
        "\n",
        "    genderList = ['Male', 'Female']\n",
        "\n",
        "    blob = cv.dnn.blobFromImage(image, 1, (227, 227), MODEL_MEAN_VALUES, swapRB=False)\n",
        "    genderNet.setInput(blob)\n",
        "    genderPreds = genderNet.forward()\n",
        "    gender = genderList[genderPreds[0].argmax()]\n",
        "    return gender"
      ]
    },
    {
      "cell_type": "code",
      "execution_count": 27,
      "metadata": {
        "id": "jrrDXaPitvdF"
      },
      "outputs": [],
      "source": [
        "def check_age(ageNet, image, MODEL_MEAN_VALUES=[104, 117, 123]):\n",
        "    ageList = ['(0 - 2)', '(4 - 6)', '(8 - 12)', '(15 - 20)', '(25 - 32)', '(38 - 43)', '(48 - 53)', '(60 - 100)']\n",
        "\n",
        "    blob = cv.dnn.blobFromImage(image, 1, (227, 227), MODEL_MEAN_VALUES, swapRB=False)\n",
        "\n",
        "    ageNet.setInput(blob)\n",
        "    agePreds = ageNet.forward()\n",
        "    age = ageList[agePreds[0].argmax()]\n",
        "    return age"
      ]
    },
    {
      "cell_type": "code",
      "execution_count": 42,
      "metadata": {
        "id": "C8hmQgAU0gG0"
      },
      "outputs": [],
      "source": [
        "def scrap_images(destination_path, gender=None, accepted_age=['(0 - 2)', '(4 - 6)', '(8 - 12)', '(15 - 20)', '(25 - 32)', '(38 - 43)', '(48 - 53)', '(60 - 100)'], n_images=15, model_mean_vaules=[104, 117, 123]):\n",
        "\n",
        "    n = 1\n",
        "\n",
        "    for i in range(n_images):\n",
        "\n",
        "        person = requests.get(\"https://thispersondoesnotexist.com\", headers={'User-Agent': 'My User Agent 1.0'}).content\n",
        "\n",
        "        image_bytes = np.frombuffer(person, np.uint8)\n",
        "        image = cv.imdecode(image_bytes, cv.IMREAD_COLOR)\n",
        "\n",
        "        genderProto = \"gender_deploy.prototxt\"\n",
        "        genderModel = \"gender_net.caffemodel\"\n",
        "        genderNet = cv.dnn.readNet(genderModel, genderProto)\n",
        "\n",
        "        ageProto = \"age_deploy.prototxt\"\n",
        "        ageModel = \"age_net.caffemodel\"\n",
        "        ageNet = cv.dnn.readNet(ageModel, ageProto)\n",
        "\n",
        "        recognized_gender = check_gender(genderNet, image, model_mean_vaules)\n",
        "        age = check_age(ageNet, image)\n",
        "\n",
        "        if (recognized_gender == gender and age in accepted_age):\n",
        "            with open(rf\"{destination_path}/file_{n}.jpeg\", \"wb\") as f:\n",
        "                f.write(person)\n",
        "            n += 1\n",
        "        elif (gender is None and age in accepted_age):\n",
        "            with open(rf\"{destination_path}/file_{n}.jpeg\", \"wb\") as f:\n",
        "                f.write(person)\n",
        "            n += 1\n",
        "        else:\n",
        "            pass"
      ]
    },
    {
      "cell_type": "code",
      "execution_count": 43,
      "metadata": {
        "id": "1KwY9L_0wESD"
      },
      "outputs": [],
      "source": [
        "N_IMAGES = 50#000\n",
        "DESTINATION_PATH = 'imgs'\n",
        "\n",
        "ACCEPTED_AGE = ['(25 - 32)', '(38 - 43)', '(48 - 53)']\n",
        "ACCEPTED_GENDER = 'Female'\n",
        "\n",
        "MODEL_MEAN_VALUES = [104, 117, 123]"
      ]
    },
    {
      "cell_type": "code",
      "execution_count": 44,
      "metadata": {
        "id": "_HSjtezH2RUD"
      },
      "outputs": [],
      "source": [
        "scrap_images(DESTINATION_PATH, gender=ACCEPTED_GENDER, age=ACCEPTED_AGE, n_images=N_IMAGES, model_mean_vaules=MODEL_MEAN_VALUES)"
      ]
    }
  ],
  "metadata": {
    "colab": {
      "provenance": []
    },
    "kernelspec": {
      "display_name": "Python 3",
      "name": "python3"
    },
    "language_info": {
      "name": "python"
    }
  },
  "nbformat": 4,
  "nbformat_minor": 0
}
